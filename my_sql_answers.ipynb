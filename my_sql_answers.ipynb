{
 "cells": [
  {
   "cell_type": "code",
   "execution_count": 8,
   "metadata": {},
   "outputs": [],
   "source": [
    "import mysql.connector\n",
    "\n",
    "connection = mysql.connector.connect(\n",
    "    host=\"mysql-rfam-public.ebi.ac.uk\",\n",
    "    port=4497,\n",
    "    user=\"rfamro\",\n",
    "    database=\"Rfam\"\n",
    ")\n"
   ]
  },
  {
   "attachments": {},
   "cell_type": "markdown",
   "metadata": {},
   "source": [
    "a. How many types of tigers can be found in the taxonomy table of the dataset? \n"
   ]
  },
  {
   "attachments": {},
   "cell_type": "markdown",
   "metadata": {},
   "source": [
    "ans: 8 types                                                                                                                                        \n",
    "Panthera tigris (tiger)                                                                                                                                     \n",
    "Panthera tigris altaica (Amur tiger)                                                                                                                \n",
    "Panthera tigris amoyensis (Amoy tiger)                                                                                                              \n",
    "Panthera tigris corbetti (Indochinese tiger)                                                                                                             \n",
    "Panthera tigris jacksoni (Malayan tiger)                                                                                                                        \n",
    "Panthera tigris sondaica (Javan tiger)                                                                                                                      \n",
    "Panthera tigris sumatrae (Sumatran tiger)                                                                                                           \n",
    "Panthera tigris tigris (Bengal tiger)"
   ]
  },
  {
   "cell_type": "code",
   "execution_count": 2,
   "metadata": {},
   "outputs": [
    {
     "name": "stdout",
     "output_type": "stream",
     "text": [
      "8\n",
      "(9694, 'Panthera tigris (tiger)')\n",
      "(74533, 'Panthera tigris altaica (Amur tiger)')\n",
      "(253258, 'Panthera tigris amoyensis (Amoy tiger)')\n",
      "(74534, 'Panthera tigris corbetti (Indochinese tiger)')\n",
      "(419130, 'Panthera tigris jacksoni (Malayan tiger)')\n",
      "(644771, 'Panthera tigris sondaica (Javan tiger)')\n",
      "(9695, 'Panthera tigris sumatrae (Sumatran tiger)')\n",
      "(74535, 'Panthera tigris tigris (Bengal tiger)')\n"
     ]
    }
   ],
   "source": [
    "cursor = connection.cursor()\n",
    "cursor.execute(\" SELECT ncbi_id,species FROM taxonomy WHERE species LIKE '%panthera tigris%' \")\n",
    "rows = cursor.fetchall()\n",
    "print(len(rows))\n",
    "for row in rows:\n",
    "    print(row)\n"
   ]
  },
  {
   "attachments": {},
   "cell_type": "markdown",
   "metadata": {},
   "source": [
    "2.What is the \"ncbi_id\" of the Sumatran Tiger? \n"
   ]
  },
  {
   "attachments": {},
   "cell_type": "markdown",
   "metadata": {},
   "source": [
    "ans: - ncb_id = 9695"
   ]
  },
  {
   "attachments": {},
   "cell_type": "markdown",
   "metadata": {},
   "source": [
    "b. Find all the columns that can be used to connect the tables in the given database."
   ]
  },
  {
   "attachments": {},
   "cell_type": "markdown",
   "metadata": {},
   "source": [
    "Ans:                                                                                                                                                \n",
    "1.ncbi_id                                                                                                                                           \n",
    "2.clan_acc                                                                                                                                                  \n",
    "3.rfam_acc                                                                                                                                              \n",
    "4.rfamseq_acc                                                                                                                                           \n",
    "5.auto_wiki"
   ]
  },
  {
   "attachments": {},
   "cell_type": "markdown",
   "metadata": {},
   "source": [
    "Which type of rice has the longest DNA sequence?"
   ]
  },
  {
   "cell_type": "code",
   "execution_count": 7,
   "metadata": {},
   "outputs": [
    {
     "name": "stdout",
     "output_type": "stream",
     "text": [
      "4\n",
      "('Oryza sativa (rice)', 339972)\n",
      "('Oryza sativa endornavirus (isolate Japan)', 13952)\n",
      "('Oryza sativa Indica Group', 47244934)\n",
      "('Oryza sativa Japonica Group', 43270923)\n"
     ]
    }
   ],
   "source": [
    "cursor = connection.cursor()\n",
    "cursor.execute(\"SELECT t.species, MAX(r.length) FROM taxonomy t INNER JOIN rfamseq r ON t.ncbi_id = r.ncbi_id WHERE t.species LIKE 'Oryza sativa%' GROUP BY t.species; \")\n",
    "rows = cursor.fetchall()\n",
    "print(len(rows))\n",
    "for row in rows:\n",
    "    print(row)\n"
   ]
  },
  {
   "attachments": {},
   "cell_type": "markdown",
   "metadata": {},
   "source": [
    "ANS : Oryza sativa Indica Group"
   ]
  },
  {
   "attachments": {},
   "cell_type": "markdown",
   "metadata": {},
   "source": [
    "d.We want to paginate a list of the family names and their longest DNA sequence lengths (in descending order of length) where only families that have DNA sequence lengths greater than 1,000,000 are included. Give a query that will return the 9th page when there are 15 results per page. (hint: we need the family accession ID, family name and the maximum length in the results)"
   ]
  },
  {
   "cell_type": "code",
   "execution_count": 9,
   "metadata": {},
   "outputs": [
    {
     "name": "stdout",
     "output_type": "stream",
     "text": [
      "15\n",
      "('Anopheles gambiae str. PEST', 'AAAB01008807', 23099915)\n",
      "('Anopheles dirus', 'KB672490', 22947322)\n",
      "('Hymenolepis microstoma', 'LN906329', 22338478)\n",
      "('Eutrema salsugineum', 'KI517384', 21755756)\n",
      "(\"Propithecus coquereli (Coquerel's sifaka)\", 'KQ022624', 21700459)\n",
      "('Caenorhabditis briggsae', 'FR847112', 21540570)\n",
      "('Drosophila sechellia', 'CH480815', 21120651)\n",
      "('Caenorhabditis elegans', 'BX284601', 20924180)\n",
      "('Sorex araneus (European shrew)', 'JH798183', 20915803)\n",
      "('Anopheles atroparvus', 'KI421882', 20238125)\n",
      "('Echinococcus multilocularis', 'LN902841', 20116479)\n",
      "('Spermophilus parryii (Arctic ground squirrel)', 'QVIC01000005', 20065445)\n",
      "('Capsella rubella', 'KB870805', 19566579)\n",
      "('Mustela putorius furo (domestic ferret)', 'GL896918', 17988942)\n",
      "('Erinaceus europaeus (western European hedgehog)', 'JH835289', 17429815)\n"
     ]
    }
   ],
   "source": [
    "cursor = connection.cursor()\n",
    "cursor.execute(\"SELECT t.species,r.accession, MAX(r.length) AS max_length FROM taxonomy t INNER JOIN rfamseq r ON t.ncbi_id = r.ncbi_id WHERE r.length > 1000000 GROUP BY t.species ORDER BY max_length DESC LIMIT 15 OFFSET 120\")\n",
    "rows = cursor.fetchall()\n",
    "print(len(rows))\n",
    "for row in rows:\n",
    "    print(row)\n"
   ]
  }
 ],
 "metadata": {
  "kernelspec": {
   "display_name": "Python 3",
   "language": "python",
   "name": "python3"
  },
  "language_info": {
   "codemirror_mode": {
    "name": "ipython",
    "version": 3
   },
   "file_extension": ".py",
   "mimetype": "text/x-python",
   "name": "python",
   "nbconvert_exporter": "python",
   "pygments_lexer": "ipython3",
   "version": "3.11.0"
  },
  "orig_nbformat": 4,
  "vscode": {
   "interpreter": {
    "hash": "aee8b7b246df8f9039afb4144a1f6fd8d2ca17a180786b69acc140d282b71a49"
   }
  }
 },
 "nbformat": 4,
 "nbformat_minor": 2
}
